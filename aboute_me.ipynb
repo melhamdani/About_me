{
  "nbformat": 4,
  "nbformat_minor": 0,
  "metadata": {
    "colab": {
      "provenance": [],
      "toc_visible": true,
      "authorship_tag": "ABX9TyMlDLkgrKBdjZlymma7x75V",
      "include_colab_link": true
    },
    "kernelspec": {
      "name": "python3",
      "display_name": "Python 3"
    },
    "language_info": {
      "name": "python"
    }
  },
  "cells": [
    {
      "cell_type": "markdown",
      "metadata": {
        "id": "view-in-github",
        "colab_type": "text"
      },
      "source": [
        "<a href=\"https://colab.research.google.com/github/melhamdani/About_me/blob/main/aboute_me.ipynb\" target=\"_parent\"><img src=\"https://colab.research.google.com/assets/colab-badge.svg\" alt=\"Open In Colab\"/></a>"
      ]
    },
    {
      "cell_type": "markdown",
      "source": [
        "# about me"
      ],
      "metadata": {
        "id": "yntkATiO7rTy"
      }
    },
    {
      "cell_type": "markdown",
      "source": [
        "*my name is mohamed*"
      ],
      "metadata": {
        "id": "YosxTqAG-XWc"
      }
    },
    {
      "cell_type": "markdown",
      "source": [
        "My goal is to further develop my skills and integrate effectively into the job market.|"
      ],
      "metadata": {
        "id": "YLsNHDkQ_idZ"
      }
    },
    {
      "cell_type": "markdown",
      "source": [
        "I'd choose a lion's head because lions represent strength, courage, and leadership. Plus, having a lion's mane would make me stand out! It’s a great way to show confidence and presence\n"
      ],
      "metadata": {
        "id": "xE1Og3CLAiKy"
      }
    },
    {
      "cell_type": "markdown",
      "source": [
        "I'd keep:\n",
        " - WhatsAppfor staying in touch with family and friends.\n",
        " - YouTube for entertainment and learning.\n",
        " - Slack for work and collaboration.\n",
        "These three apps cover communication, knowledge, and productivity for me.\n"
      ],
      "metadata": {
        "id": "sqdj_S0FBfkw"
      }
    },
    {
      "cell_type": "markdown",
      "source": [
        "\n",
        "#### *kind of Sports*\n",
        "1. **Fitness**: Staying healthy and active.\n",
        "2. **Teamwork**: Learning to work with others.\n",
        "3. **Discipline**: Building mental and physical strength."
      ],
      "metadata": {
        "id": "rHYCKEIxFIdV"
      }
    },
    {
      "cell_type": "markdown",
      "source": [
        "---\n",
        "###### **My Skills**\n",
        "\n",
        "| Skill                  | Level      |\n",
        "|------------------------|-----------------|\n",
        "| Data Management        | Intermediate|\n",
        "| Customer Service       | Advanced   |\n",
        "| Inventory Tracking     | Advanced   |\n",
        "\n",
        "---\n"
      ],
      "metadata": {
        "id": "8QvA1kzKFvrp"
      }
    },
    {
      "cell_type": "markdown",
      "source": [
        "\n",
        "www.linkedin.com/in/melhamdani )\n",
        "-----"
      ],
      "metadata": {
        "id": "fHj_DnFSH50D"
      }
    }
  ]
}